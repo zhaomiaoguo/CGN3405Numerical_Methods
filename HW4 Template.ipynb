{
 "cells": [
  {
   "cell_type": "markdown",
   "metadata": {},
   "source": [
    "# Linear Regression\n",
    "\n",
    "I will implement single variable linear regression from scrath to solve the following example (Example 17.1). \n",
    "\n",
    "| x      | y | \n",
    "| :----:       |    :----:   |\n",
    "| 1      | 0.5       |\n",
    "| 2   | 2.5        |\n",
    "| 3   | 2.0        |\n",
    "| 4   | 4.0        |\n",
    "| 5   | 3.5        |\n",
    "| 6   | 6.0        |\n",
    "| 7   | 5.5        |"
   ]
  },
  {
   "cell_type": "code",
   "execution_count": 8,
   "metadata": {},
   "outputs": [
    {
     "data": {
      "image/png": "[encoded data removed]",
      "text/plain": [
       "<Figure size 360x360 with 1 Axes>"
      ]
     },
     "metadata": {
      "needs_background": "light"
     },
     "output_type": "display_data"
    }
   ],
   "source": [
    "# Plot the data in 2-D figure\n",
    "\n",
    "# import libraries\n",
    "import matplotlib.pyplot as plt\n",
    " \n",
    "# define data\n",
    "x =[1,2,3,4,5,6,7]\n",
    "y =[0.5, 2.5, 2.0, 4.0, 3.5, 6.0, 5.5]\n",
    "\n",
    "# plot every data points (x,y) on 2d graph\n",
    "plt.scatter(x, y, c =\"blue\")\n",
    "# add the labels of x axis and y axis\n",
    "plt.xlabel(\"X-axis\")\n",
    "plt.ylabel(\"Y-axis\")\n",
    "# To show the plot\n",
    "plt.show()"
   ]
  },
  {
   "cell_type": "code",
   "execution_count": 17,
   "metadata": {},
   "outputs": [
    {
     "name": "stdout",
     "output_type": "stream",
     "text": [
      "The solutions of linear regression  y= 0.07142857142857117  +  0.8392857142857143 x\n",
      "The R-squared:  0.8683176100628932\n"
     ]
    }
   ],
   "source": [
    "# linear regression function. The implementation here directly follow the pseudo code provided in class.\n",
    "def Regression(x, y):\n",
    "    sumx = 0\n",
    "    sumxy = 0\n",
    "    sumy = 0\n",
    "    sumx2 = 0\n",
    "    st = 0\n",
    "    sr = 0\n",
    "    \n",
    "    n = len(x)\n",
    "    \n",
    "    for i in range(n):\n",
    "        sumx = sumx + x[i]\n",
    "        sumy = sumy + y[i]\n",
    "        sumxy = sumxy + x[i]*y[i]\n",
    "        sumx2 = sumx2 + x[i]*x[i]\n",
    "    \n",
    "    xm = sumx/n # calcualte the mean of x\n",
    "    ym = sumy/n # calcualte the mean of x\n",
    "    \n",
    "    # calcuate coefficient a0 and a1\n",
    "    a1 = (n*sumxy - sumx*sumy)/(n*sumx2 - sumx*sumx)\n",
    "    a0 = ym - a1*xm\n",
    "    \n",
    "    # calculate total sum of the squares around the mean st and sum of the squares of the residuals sr\n",
    "    for i in range(n):\n",
    "        st = st + (y[i] - ym)**2\n",
    "        sr = sr + (y[i] - a1*x[i] - a0)**2\n",
    "        \n",
    "    r2 = (st - sr)/st\n",
    "    \n",
    "    return a0, a1, r2\n",
    "\n",
    "# define data\n",
    "x =[1,2,3,4,5,6,7]\n",
    "y =[0.5, 2.5, 2.0, 4.0, 3.5, 6.0, 5.5]\n",
    "   \n",
    "# call Regression function to solve for a0, a1, and R-squared\n",
    "a0, a1, r2 = Regression(x, y)\n",
    "\n",
    "# print the results\n",
    "print(\"The solutions of linear regression \", \"y=\", a0, \" + \", a1, \"x\")\n",
    "print(\"The R-squared: \", r2)"
   ]
  },
  {
   "cell_type": "code",
   "execution_count": 16,
   "metadata": {
    "scrolled": false
   },
   "outputs": [
    {
     "data": {
      "image/png": "[encoded data removed]",
      "text/plain": [
       "<Figure size 360x360 with 1 Axes>"
      ]
     },
     "metadata": {
      "needs_background": "light"
     },
     "output_type": "display_data"
    }
   ],
   "source": [
    "# Plot the data and the linear regression in 2-D figure\n",
    "\n",
    "# import libraries\n",
    "import matplotlib.pyplot as plt\n",
    " \n",
    "# define data\n",
    "x =[1,2,3,4,5,6,7]\n",
    "y =[0.5, 2.5, 2.0, 4.0, 3.5, 6.0, 5.5]\n",
    "\n",
    "# plot the original data\n",
    "plt.scatter(x, y, c =\"blue\")\n",
    "plt.xlabel(\"X-axis\")\n",
    "plt.ylabel(\"Y-axis\")\n",
    "\n",
    "# plot the regression line\n",
    "\n",
    "# define target function to plot\n",
    "def target_function(x):\n",
    "    return a0 + a1*x\n",
    "\n",
    "x_hat = np.linspace(1, 7, 100) # x is a list with 100 elements from 1 to 7.\n",
    "y_hat = [] # store the estimate of y based on linear regression function\n",
    "\n",
    "# calculate y for each number in x. Note that x is a list.\n",
    "\n",
    "for i in range(len(x_hat)): # for each number in x\n",
    "    y_hat.append(target_function(x_hat[i]))\n",
    "\n",
    "# plot the fitted line in red\n",
    "plt.plot(x_hat, y_hat, color='red')\n",
    "\n",
    "# To show the plot\n",
    "plt.show()"
   ]
  },
  {
   "cell_type": "code",
   "execution_count": 24,
   "metadata": {},
   "outputs": [
    {
     "name": "stdout",
     "output_type": "stream",
     "text": [
      "The solutions of linear regression  y= 0.07142857142857162  +  0.8392857142857142 x\n",
      "The R-squared:  0.8683176100628929\n"
     ]
    },
    {
     "data": {
      "image/png": "[encoded data removed]",
      "text/plain": [
       "<Figure size 360x360 with 1 Axes>"
      ]
     },
     "metadata": {
      "needs_background": "light"
     },
     "output_type": "display_data"
    }
   ],
   "source": [
    "# Python has some neat linear regression functions: stats.linregress(x, y)\n",
    "\n",
    "import matplotlib.pyplot as plt\n",
    "from scipy import stats\n",
    "\n",
    "# define data\n",
    "x =[1,2,3,4,5,6,7]\n",
    "y =[0.5, 2.5, 2.0, 4.0, 3.5, 6.0, 5.5]\n",
    "\n",
    "# this is the \"magic\" line\n",
    "slope, intercept, r, p, std_err = stats.linregress(x, y)\n",
    "\n",
    "# print the results\n",
    "print(\"The solutions of linear regression \", \"y=\", intercept, \" + \", slope, \"x\")\n",
    "print(\"The R-squared: \", r**2)\n",
    "\n",
    "# define the function you want to plot\n",
    "def myfunc(x):\n",
    "  return slope * x + intercept\n",
    "\n",
    "mymodel = list(map(myfunc, x))\n",
    "\n",
    "# plot data  in blue and line in red\n",
    "plt.scatter(x, y, color =\"blue\")\n",
    "plt.plot(x, mymodel, color = \"red\")\n",
    "plt.show()"
   ]
  },
  {
   "cell_type": "markdown",
   "metadata": {},
   "source": [
    "# Newton's Interpolating Polynomial\n",
    "\n",
    "I will use Newton's Interpolating Poolynomial to interpolate the following three data points.\n",
    "\n",
    "| x      | f(x) | \n",
    "| :----:       |    :----:   |\n",
    "| 1      | 0       |\n",
    "| 4   | 1.386294        |\n",
    "| 6   | 1.791759        |"
   ]
  },
  {
   "cell_type": "code",
   "execution_count": 54,
   "metadata": {
    "scrolled": true
   },
   "outputs": [
    {
     "name": "stdout",
     "output_type": "stream",
     "text": [
      "The  2 order interpolating at x = 2 is:  0.5658441999999999\n"
     ]
    }
   ],
   "source": [
    "# Newton's interpolating polinomial function. The implementation here should match the pseudo code provided in class.\n",
    "def NewtInt(x, y, n, xi): # x, y are data points, n is the points you would like to use to approximate. So n = 3 means 2nd approximation\n",
    "    import numpy as np\n",
    "    fdd = np.zeros([n,n]) # Divided-difference\n",
    "    yint = np.zeros(n) # y interpolating\n",
    "    ea = np.zeros(n) # \n",
    "    if (n>len(x)):\n",
    "        print(\"The number of data points are not sufficient to estimate \", n, ' order polynomial function!')\n",
    "    else:\n",
    "        for i in range(n):\n",
    "            fdd[i, 0] = y[i] # i is the index of data points. 0 means 0 order divided-differential\n",
    "            \n",
    "        for j in range(1,n):\n",
    "            for i in range(n-j):\n",
    "                fdd[i,j] = (fdd[i+1, j-1] - fdd[i,j-1])/(x[i+j] - x[i]) # from x_i to x_j\n",
    "        \n",
    "        # add each order of Newton's interpolating polinomial function\n",
    "        \n",
    "        xterm = 1\n",
    "        yint[0] = fdd[0,0] # The first order interpolating: f(x_0) \n",
    "        \n",
    "        for order in range(1,n):\n",
    "            xterm = xterm*(xi - x[order - 1]) # (x-x0)(x-x1)....\n",
    "            yint2 = yint[order-1] + fdd[0,order] * xterm\n",
    "            ea[order-1] = yint2 - yint[order - 1]\n",
    "            yint[order] = yint2\n",
    "    \n",
    "    return yint, ea\n",
    "\n",
    "# define data\n",
    "x =[1,4,6]\n",
    "y =[0, 1.386294, 1.791759]\n",
    "n = 3 # num of data points used, i.e. order + 1\n",
    "xi = 2\n",
    "   \n",
    "# call NetInt function\n",
    "yint, ea = NewtInt(x, y, n, xi)\n",
    "\n",
    "# print the 2nd order interpolated value at x = xi\n",
    "print(\"The \", n-1,  \"order interpolating at x =\", xi, \"is: \", yint[n-1])"
   ]
  }
 ],
 "metadata": {
  "kernelspec": {
   "display_name": "Python 3",
   "language": "python",
   "name": "python3"
  },
  "language_info": {
   "codemirror_mode": {
    "name": "ipython",
    "version": 3
   },
   "file_extension": ".py",
   "mimetype": "text/x-python",
   "name": "python",
   "nbconvert_exporter": "python",
   "pygments_lexer": "ipython3",
   "version": "3.9.12"
  }
 },
 "nbformat": 4,
 "nbformat_minor": 4
}
