{
 "cells": [
  {
   "cell_type": "markdown",
   "metadata": {},
   "source": [
    "# Integration\n",
    "\n",
    "I will implement multiple application of the trapezoidal rule to solve the Example 21.2. \n",
    "\n",
    "* $f(x) = 0.2 + 25x -200x^2 +675x^3 - 900x^4 + 400x^5 $\n",
    "* $a = 0$, $b = 0.8$, $f(a) = 0.2$, $f(b) = 0.232$, \\alert{$f(0.4) = 2.456$}\n",
    "\n",
    "What's the approximated integral using multiple application of the Trapezoidal Rule?\n"
   ]
  },
  {
   "cell_type": "code",
   "execution_count": 7,
   "metadata": {},
   "outputs": [
    {
     "name": "stdout",
     "output_type": "stream",
     "text": [
      "The approximated integral using multiple application of the Trapezoidal Rule is :  1.0688000000000002\n"
     ]
    }
   ],
   "source": [
    "# Plot the data in 2-D figure\n",
    "\n",
    "# import libraries\n",
    "import matplotlib.pyplot as plt\n",
    " \n",
    "# define data\n",
    "x =[0,0.4,0.8]\n",
    "y =[0.2, 2.456, 0.232 ]\n",
    "h = 0.4 # step size\n",
    "n = len(y) - 1 # number of segments. Note that this is equal to number of points - 1\n",
    "\n",
    "def Trapm(h, n, f):\n",
    "    # the first term\n",
    "    sum = f[0]\n",
    "    # the middle terms\n",
    "    for i in range(1, n):# does not include n\n",
    "        sum = sum + 2*f[i]\n",
    "\n",
    "    # the last term\n",
    "    sum = sum + f[n]\n",
    "    Trapm = h * sum/2\n",
    "    \n",
    "    return Trapm\n",
    "\n",
    "app_int = Trapm(h, n, y)\n",
    "\n",
    "print(\"The approximated integral using multiple application of the Trapezoidal Rule is : \", app_int)\n"
   ]
  },
  {
   "cell_type": "code",
   "execution_count": 6,
   "metadata": {
    "scrolled": false
   },
   "outputs": [
    {
     "data": {
      "image/png": "[encoded data removed]",
      "text/plain": [
       "<Figure size 432x288 with 1 Axes>"
      ]
     },
     "metadata": {
      "needs_background": "light"
     },
     "output_type": "display_data"
    }
   ],
   "source": [
    "# Plot the data and the linear regression in 2-D figure\n",
    "\n",
    "# import libraries\n",
    "import matplotlib.pyplot as plt\n",
    "import numpy as np\n",
    " \n",
    "# define data\n",
    "x =[0,0.4,0.8]\n",
    "y =[0.2, 2.456, 0.232]\n",
    "\n",
    "# plot the original data\n",
    "plt.scatter(x, y, c =\"blue\")\n",
    "plt.xlabel(\"X-axis\")\n",
    "plt.ylabel(\"Y-axis\")\n",
    "\n",
    "# plot the regression line\n",
    "\n",
    "# define target function to plot\n",
    "def target_function(x):\n",
    "    return  0.2 + 25*x -200*x**2 +675*x**3 - 900*x**4 + 400*x**5\n",
    "\n",
    "x_hat = np.linspace(0, 1, 100) # x is a list with 100 elements from 1 to 7.\n",
    "y_hat = [] # store the estimate of y based on linear regression function\n",
    "\n",
    "# calculate y for each number in x. Note that x is a list.\n",
    "\n",
    "for i in range(len(x_hat)): # for each number in x\n",
    "    y_hat.append(target_function(x_hat[i]))\n",
    "\n",
    "# plot the fitted line in red\n",
    "plt.plot(x_hat, y_hat, color='red')\n",
    "\n",
    "# To show the plot\n",
    "plt.show()"
   ]
  }
 ],
 "metadata": {
  "kernelspec": {
   "display_name": "Python 3",
   "language": "python",
   "name": "python3"
  },
  "language_info": {
   "codemirror_mode": {
    "name": "ipython",
    "version": 3
   },
   "file_extension": ".py",
   "mimetype": "text/x-python",
   "name": "python",
   "nbconvert_exporter": "python",
   "pygments_lexer": "ipython3",
   "version": "3.9.12"
  }
 },
 "nbformat": 4,
 "nbformat_minor": 4
}
