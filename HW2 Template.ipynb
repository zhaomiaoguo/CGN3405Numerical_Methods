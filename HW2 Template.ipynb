{
 "cells": [
  {
   "cell_type": "markdown",
   "metadata": {},
   "source": [
    "# Solve the equation $\\cos(x) - x = 0$"
   ]
  },
  {
   "cell_type": "markdown",
   "metadata": {},
   "source": [
    "## Graphical meothod"
   ]
  },
  {
   "cell_type": "code",
   "execution_count": 42,
   "metadata": {},
   "outputs": [
    {
     "data": {
      "image/png": "[encoded data removed]",
      "text/plain": [
       "<Figure size 360x360 with 1 Axes>"
      ]
     },
     "metadata": {
      "needs_background": "light"
     },
     "output_type": "display_data"
    }
   ],
   "source": [
    "# import libraries\n",
    "import numpy as np\n",
    "from matplotlib import pyplot as plt\n",
    "import math\n",
    "\n",
    "# define function\n",
    "def target_function(x):\n",
    "    return math.cos(x) - x\n",
    "\n",
    "plt.rcParams[\"figure.figsize\"] = [5.0, 5.0]\n",
    "plt.rcParams[\"figure.autolayout\"] = True\n",
    "\n",
    "x = np.linspace(-10, 10, 100) # x is a list with 100 elements from -10 to 10.\n",
    "y = []\n",
    "\n",
    "# calculate y for each number in x. Note that x is a list.\n",
    "\n",
    "for i in range(len(x)): # for each number in x\n",
    "    y.append(target_function(x[i]))\n",
    "\n",
    "plt.plot(x, y, color='red')\n",
    "\n",
    "plt.show()"
   ]
  },
  {
   "cell_type": "markdown",
   "metadata": {},
   "source": [
    "## Bisection method"
   ]
  },
  {
   "cell_type": "code",
   "execution_count": 43,
   "metadata": {},
   "outputs": [
    {
     "name": "stdout",
     "output_type": "stream",
     "text": [
      "Great! The initial guesses bound the root of interest.\n"
     ]
    }
   ],
   "source": [
    "# import libararies needed\n",
    "import math\n",
    "\n",
    "# define function: this is the function you like to solve the roots for\n",
    "def target_function(x):\n",
    "    return math.cos(x) - x\n",
    "\n",
    "# initial guess\n",
    "x_l = -10\n",
    "x_u = 10\n",
    "\n",
    "# check if these two guess bound the root of interest\n",
    "if (target_function(x_l)*target_function(x_u)>=0):\n",
    "    print('Oops! Need new guesses!')\n",
    "else:\n",
    "    print('Great! The initial guesses bound the root of interest.')"
   ]
  },
  {
   "cell_type": "code",
   "execution_count": 44,
   "metadata": {},
   "outputs": [
    {
     "name": "stdout",
     "output_type": "stream",
     "text": [
      "The root of the function is :  0.73974609375\n",
      "The approximate relative error is :  0.0033003300330033004\n",
      "The function value of my solution is :  -0.0011063529111269288\n"
     ]
    }
   ],
   "source": [
    "# calculate the initial estimate of the root\n",
    "x_r_new = (x_l + x_u)/2\n",
    "\n",
    "# define stopping criteria:\n",
    "e_threshold = 0.005 # this parameter may need to change depend on the problem\n",
    "e_app_rel = 1 # initial relative approximate error, try to give it a big number so that initially e_app_rel>e_threshold\n",
    "\n",
    "# start looping until the stopping criteria satisfies\n",
    "while (e_app_rel > e_threshold):\n",
    "    if (target_function(x_r_new) == 0):\n",
    "        print(\"The root is: \", x_r_new)\n",
    "        break\n",
    "    elif (target_function(x_l) * target_function(x_r_new) < 0 ):\n",
    "        x_u = x_r_new\n",
    "    elif (target_function(x_l) * target_function(x_r_new) > 0 ):\n",
    "        x_l = x_r_new\n",
    "    else:\n",
    "        print(\"Something wrong!\")\n",
    "    \n",
    "    # save x_r_new as x_r_old and update x_r_new\n",
    "    x_r_old = x_r_new\n",
    "    x_r_new = (x_l + x_u)/2 # Note: x_l or x_u has been updated everytime before\n",
    "    \n",
    "    # calculate the new relative approximate error\n",
    "    e_app_rel = abs((x_r_new-x_r_old)/x_r_new) # you don't have to times 100% if e_threshold is in decimal rather than percentage\n",
    "\n",
    "    \n",
    "# after the previous loop finishes, print out the final solution x_r_new and the approximate relative error\n",
    "\n",
    "print(\"The root of the function is : \", x_r_new)\n",
    "print(\"The approximate relative error is : \", e_app_rel)\n",
    "\n",
    "# If you are not confident if the root is correct, you can plug in the solution to the target function to see if it's indeed very close to 0\n",
    "print(\"The function value of my solution is : \", target_function(x_r_new))"
   ]
  },
  {
   "cell_type": "markdown",
   "metadata": {},
   "source": [
    "## Newton-Raphson Method"
   ]
  },
  {
   "cell_type": "code",
   "execution_count": 45,
   "metadata": {},
   "outputs": [
    {
     "name": "stdout",
     "output_type": "stream",
     "text": [
      "The root of the function is :  0.7390851332181249\n",
      "The approximate relative error is :  4.957410104455683e-06\n",
      "The function value of my solution is :  -4.9609205632350495e-12\n"
     ]
    }
   ],
   "source": [
    "# import libararies needed\n",
    "import math\n",
    "\n",
    "# initial guess\n",
    "x_r_new = -10\n",
    "\n",
    "# define function: this is the function you like to solve the roots for\n",
    "def target_function(x):\n",
    "    return math.cos(x) - x\n",
    "\n",
    "# calculate the 1st order derivative\n",
    "def derivative_target_function(x):\n",
    "    return -math.sin(x) - 1\n",
    "\n",
    "# define stopping criteria:\n",
    "e_threshold = 0.005 # this parameter may need to change depend on the problem\n",
    "e_app_rel = 1 # initial relative approximate error, try to give it a big number so that initially e_app_rel>e_threshold\n",
    "\n",
    "# start looping until the stopping criteria satisfies\n",
    "while (e_app_rel > e_threshold):\n",
    "    x_r_old = x_r_new # save the current approximation\n",
    "    x_r_new = x_r_old - target_function(x_r_old)/derivative_target_function(x_r_old)\n",
    "    \n",
    "    # calculate the new relative approximate error\n",
    "    e_app_rel = abs((x_r_new-x_r_old)/x_r_new) # you don't have to times 100% if e_threshold is in decimal rather than percentage\n",
    "\n",
    "# after the previous loop finishes, print out the final solution x_r_new and the approximate relative error\n",
    "\n",
    "print(\"The root of the function is : \", x_r_new)\n",
    "print(\"The approximate relative error is : \", e_app_rel)\n",
    "\n",
    "# If you are not confident if the root is correct, you can plug in the solution to the target function to see if it's indeed very close to 0\n",
    "print(\"The function value of my solution is : \", target_function(x_r_new))"
   ]
  },
  {
   "cell_type": "code",
   "execution_count": null,
   "metadata": {},
   "outputs": [],
   "source": []
  }
 ],
 "metadata": {
  "kernelspec": {
   "display_name": "Python 3",
   "language": "python",
   "name": "python3"
  },
  "language_info": {
   "codemirror_mode": {
    "name": "ipython",
    "version": 3
   },
   "file_extension": ".py",
   "mimetype": "text/x-python",
   "name": "python",
   "nbconvert_exporter": "python",
   "pygments_lexer": "ipython3",
   "version": "3.9.12"
  }
 },
 "nbformat": 4,
 "nbformat_minor": 4
}
