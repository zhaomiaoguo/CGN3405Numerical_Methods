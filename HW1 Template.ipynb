{
 "cells": [
  {
   "cell_type": "code",
   "execution_count": 1,
   "metadata": {},
   "outputs": [],
   "source": [
    "import math\n",
    "x = (math.pi)/6\n",
    "x_0 = 0\n",
    "ans_true = math.cos(x)"
   ]
  },
  {
   "cell_type": "code",
   "execution_count": 2,
   "metadata": {},
   "outputs": [],
   "source": [
    "ans_app = 0 \n",
    "\n",
    "for i in range(4):\n",
    "    ans_app = ans_app + (-1)**i * x ** (2*i)/math.factorial(2*i)"
   ]
  },
  {
   "cell_type": "code",
   "execution_count": 3,
   "metadata": {},
   "outputs": [],
   "source": [
    "# true percent relative error\n",
    "\n",
    "e_true_percent = abs(ans_app - ans_true)/ans_true"
   ]
  },
  {
   "cell_type": "code",
   "execution_count": 4,
   "metadata": {
    "scrolled": true
   },
   "outputs": [
    {
     "data": {
      "text/plain": [
       "1.6129303710189162e-07"
      ]
     },
     "execution_count": 4,
     "metadata": {},
     "output_type": "execute_result"
    }
   ],
   "source": [
    "e_true_percent"
   ]
  },
  {
   "cell_type": "code",
   "execution_count": 5,
   "metadata": {},
   "outputs": [
    {
     "name": "stdout",
     "output_type": "stream",
     "text": [
      "1.0\n",
      "0.158853075148654\n",
      "0.0036160825322026978\n",
      "The number of terms I need is:  2\n"
     ]
    }
   ],
   "source": [
    "# approximate percent relative error\n",
    "ans_app = 0 \n",
    "n = 2 # because the problem ask you to keep 2 significnat digits\n",
    "e_threshold = 0.5*10**(-n)\n",
    "\n",
    "for i in range(20):\n",
    "    ans_app_old = ans_app # this is my old approximation\n",
    "    ans_app = ans_app + (-1)**i * x ** (2*i)/math.factorial(2*i) # update my approximation with one adddition term\n",
    "    e_app_percent = abs(ans_app - ans_app_old)/ans_app\n",
    "    print(e_app_percent)\n",
    "    # have 2 significant figures\n",
    "    if (e_app_percent < e_threshold):\n",
    "        print(\"The number of terms I need is: \", i)\n",
    "        break\n",
    "    "
   ]
  },
  {
   "cell_type": "code",
   "execution_count": null,
   "metadata": {},
   "outputs": [],
   "source": []
  }
 ],
 "metadata": {
  "kernelspec": {
   "display_name": "Python 3",
   "language": "python",
   "name": "python3"
  },
  "language_info": {
   "codemirror_mode": {
    "name": "ipython",
    "version": 3
   },
   "file_extension": ".py",
   "mimetype": "text/x-python",
   "name": "python",
   "nbconvert_exporter": "python",
   "pygments_lexer": "ipython3",
   "version": "3.9.12"
  }
 },
 "nbformat": 4,
 "nbformat_minor": 4
}
