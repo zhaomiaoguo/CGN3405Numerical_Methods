{
 "cells": [
  {
   "cell_type": "markdown",
   "metadata": {},
   "source": [
    "# Naive Gauss Elimination\n",
    "\n",
    "I will implement Naive Gauss Elimination from scrath to solve the following example. But notice that python has a simple function to solve linear equations.\n",
    "\n",
    "\\begin{align}\n",
    "            2x_1 - x_2  - 2 x_3 &= 8 \\\\\n",
    "            x_1 + 2x_2 +2x_3 &= 12 \\\\\n",
    "            2x_1 + 4 x_2 -x_3 &= 4\n",
    "        \\end{align}"
   ]
  },
  {
   "cell_type": "code",
   "execution_count": 83,
   "metadata": {},
   "outputs": [
    {
     "name": "stdout",
     "output_type": "stream",
     "text": [
      "The solutions of Ax = b:  [7.2, -1.6, 4.0]\n"
     ]
    }
   ],
   "source": [
    "# Naive gauss elimination\n",
    "\n",
    "A = [[2, -1, -2], \n",
    "     [1, 2, 2],\n",
    "     [2, 4, -1]]\n",
    "b = [8,12, 4]\n",
    "\n",
    "n = len(b)\n",
    "x = [None] * n # create a list with n empty space to store the solution x\n",
    "\n",
    "# forward elimination\n",
    "for k in range(n-1):\n",
    "    for i in range(k+1, n):\n",
    "        factor = A[i][k]/A[k][k]\n",
    "        for j in range(k, n): # the textbook say it is k+1 to n, which I think is not accurate\n",
    "            A[i][j] = A[i][j] - factor * A[k][j]\n",
    "        b[i] = b[i] - factor * b[k]\n",
    "        \n",
    "# backward substitution\n",
    "x[n-1] = b[n-1]/A[n-1][n-1]\n",
    "for i in range(n-2, -1, -1):\n",
    "    sum = b[i]\n",
    "    for j in range(i+1, n):\n",
    "        sum = sum - A[i][j] * x[j]\n",
    "        \n",
    "    x[i] = sum/A[i][i]\n",
    "    \n",
    "print(\"The solutions of Ax = b: \", x)"
   ]
  },
  {
   "cell_type": "markdown",
   "metadata": {},
   "source": [
    "# LU Decomposition and Solve for $Ax = b$\n",
    "\n",
    "I will use LU Decomposition to solve the same example:\n",
    "\n",
    "\\begin{align}\n",
    "            2x_1 - x_2  - 2 x_3 &= 8 \\\\\n",
    "            x_1 + 2x_2 +2x_3 &= 12 \\\\\n",
    "            2x_1 + 4 x_2 -x_3 &= 4\n",
    "        \\end{align}"
   ]
  },
  {
   "cell_type": "code",
   "execution_count": 176,
   "metadata": {
    "scrolled": false
   },
   "outputs": [
    {
     "name": "stdout",
     "output_type": "stream",
     "text": [
      "L matrix is: \n",
      " [[1.  0.  0. ]\n",
      " [0.5 1.  0. ]\n",
      " [1.  2.  1. ]]\n",
      "U matrix is: \n",
      " [[ 2.  -1.  -2. ]\n",
      " [ 0.   2.5  3. ]\n",
      " [ 0.   0.  -5. ]]\n",
      "The solution is: \n",
      " [ 7.2 -1.6  4. ]\n",
      "[[ 1.   0.   0. ]\n",
      " [-0.5  1.   0. ]\n",
      " [ 0.  -2.   1. ]]\n"
     ]
    }
   ],
   "source": [
    "import numpy as np\n",
    "\n",
    "A = np.array([[2, -1, -2], \n",
    "     [1, 2, 2],\n",
    "     [2, 4, -1]])\n",
    "\n",
    "b = np.array([8,12, 4])\n",
    "\n",
    "def lu(A):\n",
    "    \n",
    "    #Get the number of rows\n",
    "    A = A.astype('float64')\n",
    "    n = A.shape[0]\n",
    "    \n",
    "    \n",
    "    U = A.copy()\n",
    "    L = np.eye(n, dtype=np.double)\n",
    "    \n",
    "    #Loop over rows\n",
    "    for i in range(n):\n",
    "            \n",
    "        #Eliminate entries below i with row operations \n",
    "        #on U and reverse the row operations to \n",
    "        #manipulate L\n",
    "        factor = U[i+1:, i] / U[i, i]\n",
    "        L[i+1:, i] = factor\n",
    "        U[i+1:] -= factor[:, np.newaxis] * U[i]\n",
    "        \n",
    "    return L, U\n",
    "\n",
    "def forward_substitution(L, b):\n",
    "    \n",
    "    #Get number of rows\n",
    "    n = L.shape[0]\n",
    "    \n",
    "    #Allocating space for the solution vector\n",
    "    y = np.zeros_like(b, dtype=np.double);\n",
    "    \n",
    "    #Here we perform the forward-substitution.  \n",
    "    #Initializing  with the first row.\n",
    "    y[0] = b[0] / L[0, 0]\n",
    "    \n",
    "    #Looping over rows in reverse (from the bottom  up),\n",
    "    #starting with the second to last row, because  the \n",
    "    #last row solve was completed in the last step.\n",
    "    for i in range(1, n):\n",
    "        y[i] = (b[i] - np.dot(L[i,:i], y[:i])) / L[i,i]\n",
    "        \n",
    "    return y\n",
    "\n",
    "def back_substitution(U, y):\n",
    "    \n",
    "    #Number of rows\n",
    "    n = U.shape[0]\n",
    "    \n",
    "    #Allocating space for the solution vector\n",
    "    x = np.zeros_like(y, dtype=np.double);\n",
    "\n",
    "    #Here we perform the back-substitution.  \n",
    "    #Initializing with the last row.\n",
    "    x[-1] = y[-1] / U[-1, -1]\n",
    "    \n",
    "    #Looping over rows in reverse (from the bottom up), \n",
    "    #starting with the second to last row, because the \n",
    "    #last row solve was completed in the last step.\n",
    "    for i in range(n-2, -1, -1):\n",
    "        x[i] = (y[i] - np.dot(U[i,i:], x[i:])) / U[i,i]\n",
    "        \n",
    "    return x\n",
    "\n",
    "def lu_solve(A, b):\n",
    "    \n",
    "    L, U = lu(A)\n",
    "    \n",
    "    y = forward_substitution(L, b)\n",
    "    \n",
    "    return back_substitution(U, y)\n",
    "\n",
    "l, u = lu(A)\n",
    "print(\"L matrix is: \\n\", l)\n",
    "print(\"U matrix is: \\n\", u)\n",
    "\n",
    "x = lu_solve(A,b)\n",
    "print(\"The solution is: \\n\", x)"
   ]
  },
  {
   "cell_type": "markdown",
   "metadata": {},
   "source": [
    "# Matrix inverse"
   ]
  },
  {
   "cell_type": "code",
   "execution_count": 175,
   "metadata": {},
   "outputs": [
    {
     "name": "stdout",
     "output_type": "stream",
     "text": [
      "The inverse of matrix A is: \n",
      " [[ 0.4   0.36 -0.08]\n",
      " [-0.2  -0.08  0.24]\n",
      " [-0.    0.4  -0.2 ]]\n"
     ]
    }
   ],
   "source": [
    "import numpy as np\n",
    "\n",
    "A = np.array([[2, -1, -2], \n",
    "     [1, 2, 2],\n",
    "     [2, 4, -1]])\n",
    "\n",
    "def matrix_inverse(A):\n",
    "    # call lu decomposition to get L and U matrix\n",
    "    L, U = lu(A) # this function is defined earlier. So make sure to run that cell first.\n",
    "    n = len(A)\n",
    "    A_inv = np.zeros((n,n))\n",
    "\n",
    "    for i in range(n):\n",
    "        unit_vector = np.zeros(n) \n",
    "        unit_vector[i] = 1 # try to create a vector with only ith element equals to 1\n",
    "        A_inv[:,i] = back_substitution(U, forward_substitution(L, unit_vector)) # I combine forward and backward substitution to save space.\n",
    "    return A_inv\n",
    "\n",
    "A_inv =  matrix_inverse(A)\n",
    "print(\"The inverse of matrix A is: \\n\", A_inv)"
   ]
  },
  {
   "cell_type": "markdown",
   "metadata": {},
   "source": [
    "# System Condition Examples"
   ]
  },
  {
   "cell_type": "code",
   "execution_count": 126,
   "metadata": {},
   "outputs": [
    {
     "name": "stdout",
     "output_type": "stream",
     "text": [
      "The matrix A is: \n",
      " [[1.    1.    1.   ]\n",
      " [1.    0.5   0.5  ]\n",
      " [1.    1.    0.999]]\n",
      "The inverse of matrix A is: \n",
      " [[   -1.     2.     0.]\n",
      " [ -998.    -2.  1000.]\n",
      " [ 1000.    -0. -1000.]]\n",
      "The A times A_inverse is: \n",
      " [[1.00000000e+00 0.00000000e+00 0.00000000e+00]\n",
      " [0.00000000e+00 1.00000000e+00 0.00000000e+00]\n",
      " [2.13162821e-17 0.00000000e+00 1.00000000e+00]]\n",
      "The inverse of inverse A is: \n",
      " [[1.    1.    1.   ]\n",
      " [1.    0.5   0.5  ]\n",
      " [1.    1.    0.999]]\n"
     ]
    }
   ],
   "source": [
    "# Scale the matrix of coefficients, $A$, so that the largest element in each row is 1.\n",
    "A = np.array([[1, 1, 1], \n",
    "     [1, 0.5, 0.5],\n",
    "     [1, 1, 0.999]])\n",
    "print(\"The matrix A is: \\n\", A)\n",
    "\n",
    "# If there are elements of $A^{-1}$ that are several orders of magnitude greater than one, it is likely that the system is ill-conditioned.\n",
    "A_inv =  matrix_inverse(A)\n",
    "print(\"The inverse of matrix A is: \\n\", A_inv)\n",
    "\n",
    "\n",
    "# Multiply the inverse by the original coefficient matrix and assess whether the result is close to the identity matrix. If not, it indicates ill conditioning.\n",
    "A_A_inv = np.dot(A, A_inv)\n",
    "print(\"The A times A_inverse is: \\n\", A_A_inv)\n",
    "\n",
    "# Invert the inverted matrix and assess whether the result is sufficiently close to the original coefficient matrix. If not, it again indicates that the system is ill-conditioned.\n",
    "A_inv_inv = matrix_inverse(A_inv)\n",
    "print(\"The inverse of inverse A is: \\n\", A_inv_inv)\n"
   ]
  },
  {
   "cell_type": "markdown",
   "metadata": {},
   "source": [
    "# Gauss-Seidel Method\n",
    "\n",
    "I will use Gauss-Seidel Method to solve the same example. The result is divergence!\n",
    "\n",
    "\\begin{align}\n",
    "            2x_1 - x_2  - 2 x_3 &= 8 \\\\\n",
    "            x_1 + 2x_2 +2x_3 &= 12 \\\\\n",
    "            2x_1 + 4 x_2 -x_3 &= 4\n",
    "        \\end{align}"
   ]
  },
  {
   "cell_type": "code",
   "execution_count": 173,
   "metadata": {},
   "outputs": [
    {
     "name": "stdout",
     "output_type": "stream",
     "text": [
      "Iteration number:  1\n",
      "Iteration number:  2\n",
      "Iteration number:  3\n",
      "Iteration number:  4\n",
      "Iteration number:  5\n",
      "Iteration number:  6\n",
      "Iteration number:  7\n",
      "Iteration number:  8\n",
      "Iteration number:  9\n",
      "Iteration number:  10\n",
      "Iteration number:  11\n",
      "Iteration number:  12\n",
      "Iteration number:  13\n",
      "Iteration number:  14\n",
      "Iteration number:  15\n",
      "Iteration number:  16\n",
      "Iteration number:  17\n",
      "Iteration number:  18\n",
      "Iteration number:  19\n",
      "Iteration number:  20\n",
      "Iteration number:  21\n",
      "Iteration number:  22\n",
      "Iteration number:  23\n",
      "Iteration number:  24\n",
      "Iteration number:  25\n",
      "Iteration number:  26\n",
      "Iteration number:  27\n",
      "Iteration number:  28\n",
      "Iteration number:  29\n",
      "Iteration number:  30\n",
      "Iteration number:  31\n",
      "Iteration number:  32\n",
      "Iteration number:  33\n",
      "Iteration number:  34\n",
      "Iteration number:  35\n",
      "Iteration number:  36\n",
      "Iteration number:  37\n",
      "Iteration number:  38\n",
      "Iteration number:  39\n",
      "Iteration number:  40\n",
      "Iteration number:  41\n",
      "Iteration number:  42\n",
      "Iteration number:  43\n",
      "Iteration number:  44\n",
      "Iteration number:  45\n",
      "Iteration number:  46\n",
      "Iteration number:  47\n",
      "Iteration number:  48\n",
      "Iteration number:  49\n",
      "Iteration number:  50\n",
      "Iteration number:  51\n",
      "Iteration number:  52\n",
      "Iteration number:  53\n",
      "Iteration number:  54\n",
      "Iteration number:  55\n",
      "Iteration number:  56\n",
      "Iteration number:  57\n",
      "Iteration number:  58\n",
      "Iteration number:  59\n",
      "Iteration number:  60\n",
      "Iteration number:  61\n",
      "Iteration number:  62\n",
      "Iteration number:  63\n",
      "Iteration number:  64\n",
      "Iteration number:  65\n",
      "Iteration number:  66\n",
      "Iteration number:  67\n",
      "Iteration number:  68\n",
      "Iteration number:  69\n",
      "Iteration number:  70\n",
      "Iteration number:  71\n",
      "Iteration number:  72\n",
      "Iteration number:  73\n",
      "Iteration number:  74\n",
      "Iteration number:  75\n",
      "Iteration number:  76\n",
      "Iteration number:  77\n",
      "Iteration number:  78\n",
      "Iteration number:  79\n",
      "Iteration number:  80\n",
      "Iteration number:  81\n",
      "Iteration number:  82\n",
      "Iteration number:  83\n",
      "Iteration number:  84\n",
      "Iteration number:  85\n",
      "Iteration number:  86\n",
      "Iteration number:  87\n",
      "Iteration number:  88\n",
      "Iteration number:  89\n",
      "Iteration number:  90\n",
      "Iteration number:  91\n",
      "Iteration number:  92\n",
      "Iteration number:  93\n",
      "Iteration number:  94\n",
      "Iteration number:  95\n",
      "Iteration number:  96\n",
      "Iteration number:  97\n",
      "Iteration number:  98\n",
      "Iteration number:  99\n",
      "Iteration number:  100\n",
      "The solutions of Ax = b:  [  8449525351551694 -10980160778847068 -27021592412284888]\n"
     ]
    },
    {
     "name": "stderr",
     "output_type": "stream",
     "text": [
      "<ipython-input-173-f68a246e0600>:24: RuntimeWarning: overflow encountered in long_scalars\n",
      "  sum = sum - A[i][j]* x[j]\n"
     ]
    }
   ],
   "source": [
    "# Gauss-Seidel Method:\n",
    "\n",
    "import numpy as np\n",
    "A = [[2, -1, -2], \n",
    "     [1, 2, 2],\n",
    "     [2, 4, -1]]\n",
    "b = [8,12, 4]\n",
    "\n",
    "n = len(b)\n",
    "x = np.array([0] * n) # create a list with n empty space to store the solution x\n",
    "\n",
    "e_threshold = 0.001 # relative error tolerance 0.1% \n",
    "e_rel = 1\n",
    "counter = 0\n",
    "# keep looping until the stopping criteria is met: e_rel < e_threshold or counter >= 1000 \n",
    "while (e_rel > e_threshold and counter < 100):\n",
    "    counter = counter + 1\n",
    "    print(\"Iteration number: \", counter)\n",
    "    x_old = x.copy() # You will have problems if you use x_old = x: because x_old will keep changing with x, since x is a list. Therefore, we need to create a copy of x and save it to x_old \n",
    "    for i in range(n):\n",
    "        sum = b[i]\n",
    "        for j in range(n):\n",
    "            if (j != i):\n",
    "                sum = sum - A[i][j]* x[j]        \n",
    "        x[i] = sum/A[i][i]\n",
    "        \n",
    "    x_new = x.copy()\n",
    "\n",
    "\n",
    "    e_rel = max(abs(np.divide((x_new - x_old), x_new)))\n",
    "    \n",
    "print(\"The solutions of Ax = b: \", x)"
   ]
  },
  {
   "cell_type": "code",
   "execution_count": 170,
   "metadata": {},
   "outputs": [
    {
     "data": {
      "text/plain": [
       "array([2, 1, 2])"
      ]
     },
     "execution_count": 170,
     "metadata": {},
     "output_type": "execute_result"
    }
   ],
   "source": [
    "max(abs(np.divide((x_new - x_old), x_new)))\n",
    "x_new\n",
    "x_old"
   ]
  },
  {
   "cell_type": "markdown",
   "metadata": {},
   "source": [
    "# Python has some nice functions. \n",
    "\n",
    "Just for your information in the future. Please do not directly use these functions for homework, otherwise it is not interesting any more."
   ]
  },
  {
   "cell_type": "code",
   "execution_count": 77,
   "metadata": {},
   "outputs": [
    {
     "name": "stdout",
     "output_type": "stream",
     "text": [
      "P matrix is: \n",
      " [[1. 0. 0.]\n",
      " [0. 0. 1.]\n",
      " [0. 1. 0.]]\n",
      "L matrix is: \n",
      " [[1.  0.  0. ]\n",
      " [1.  1.  0. ]\n",
      " [0.5 0.5 1. ]]\n",
      "U matrix is: \n",
      " [[ 2.  -1.  -2. ]\n",
      " [ 0.   5.   1. ]\n",
      " [ 0.   0.   2.5]]\n"
     ]
    }
   ],
   "source": [
    "# use python functions to get pivoted LU decomposition, this will be different from naive LU decomposition\n",
    "from scipy.linalg import lu\n",
    "import numpy as np\n",
    "\n",
    "A = [[2, -1, -2], \n",
    "     [1, 2, 2],\n",
    "     [2, 4, -1]]\n",
    "\n",
    "p, l, u = lu(A, permute_l = False) # pivoted LU decomposition, so L = pl\n",
    "print(\"P matrix is: \\n\", p)\n",
    "print(\"L matrix is: \\n\", l)\n",
    "print(\"U matrix is: \\n\", u)\n"
   ]
  },
  {
   "cell_type": "code",
   "execution_count": 45,
   "metadata": {},
   "outputs": [
    {
     "name": "stdout",
     "output_type": "stream",
     "text": [
      "The solutions of Ax = b:  [ 7.2 -1.6  4. ]\n"
     ]
    }
   ],
   "source": [
    "# use python functions to solve Ax = b\n",
    "import numpy as np\n",
    "A = [[2, -1, -2], \n",
    "     [1, 2, 2],\n",
    "     [2, 4, -1]]\n",
    "b = [8,12, 4]\n",
    "\n",
    "x = np.dot(np.linalg.inv(A), b)\n",
    "print(\"The solutions of Ax = b: \", x)"
   ]
  },
  {
   "cell_type": "code",
   "execution_count": 84,
   "metadata": {},
   "outputs": [
    {
     "name": "stdout",
     "output_type": "stream",
     "text": [
      "The inverse of A is : \n",
      " [[ 0.4   0.36 -0.08]\n",
      " [-0.2  -0.08  0.24]\n",
      " [ 0.    0.4  -0.2 ]]\n"
     ]
    }
   ],
   "source": [
    "# use python functions to calculate inverse of A\n",
    "import numpy as np\n",
    "A = [[2, -1, -2], \n",
    "     [1, 2, 2],\n",
    "     [2, 4, -1]]\n",
    "\n",
    "A_inv = np.linalg.inv(A)\n",
    "print(\"The inverse of A is : \\n\", A_inv )"
   ]
  },
  {
   "cell_type": "code",
   "execution_count": null,
   "metadata": {},
   "outputs": [],
   "source": []
  }
 ],
 "metadata": {
  "kernelspec": {
   "display_name": "Python 3",
   "language": "python",
   "name": "python3"
  },
  "language_info": {
   "codemirror_mode": {
    "name": "ipython",
    "version": 3
   },
   "file_extension": ".py",
   "mimetype": "text/x-python",
   "name": "python",
   "nbconvert_exporter": "python",
   "pygments_lexer": "ipython3",
   "version": "3.9.12"
  }
 },
 "nbformat": 4,
 "nbformat_minor": 4
}
