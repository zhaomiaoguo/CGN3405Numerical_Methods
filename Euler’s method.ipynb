{
 "cells": [
  {
   "cell_type": "markdown",
   "metadata": {},
   "source": [
    "# My first python code: Euler method\n",
    "\n",
    "In this code, I hope to solve the speed for the parachutist problem with the following parameters\n",
    "## forces\n",
    "- air resistance = -c*v\n",
    "- gravity = m*g\n",
    "\n",
    "## differential equation\n",
    "- dv/dt = (gravity - air resistance) / m\n",
    "\n",
    "## system parameters\n",
    "- c = 1 # coefficient of air drag, unit is N/(m/s)\n",
    "- g = 9.8 # gravity constant, unit m/s^2\n",
    "- m = 70 # mass, unit: kg\n",
    "- v_0 = 0 # initial speed, unit: m/s\n",
    "- t_i = 0 # initial time\n",
    "- t_f = 100 # end time, unit: s\n",
    "- dt = 1 # time step, unit: s"
   ]
  },
  {
   "cell_type": "code",
   "execution_count": 1,
   "metadata": {},
   "outputs": [],
   "source": [
    "## define prameters\n",
    "c = 2 # coefficient of air drag, unit is N/(m/s)\n",
    "\n",
    "g = 9.8 # gravity constant, unit m/s^2\n",
    "\n",
    "m = 70 # mass, unit: kg\n",
    "\n",
    "v_0 = 0 # initial speed, unit: m/s\n",
    "\n",
    "t_i = 0 # initial time\n",
    "\n",
    "t_f = 10 # end time, unit: s\n",
    "\n",
    "dt = 1 # time step, unit: s"
   ]
  },
  {
   "cell_type": "code",
   "execution_count": 33,
   "metadata": {},
   "outputs": [],
   "source": [
    "def dy(t, v):\n",
    "    return (m*g - c*v)/m"
   ]
  },
  {
   "cell_type": "code",
   "execution_count": 34,
   "metadata": {},
   "outputs": [],
   "source": [
    "def Euler(dt, ti, tf, yi): # function name: Euler; needs four parameters: dt: time step; ti: initial time; tf: final time; yi: initial state\n",
    "    # initialization temporary parameters in Euler functiion\n",
    "    t = ti\n",
    "    y = yi\n",
    "    h = dt \n",
    "    \n",
    "    # we will increase t by dt every time unless for the last time I can't increase dt then I will increase tf-t\n",
    "    \n",
    "    while(1):\n",
    "        # \n",
    "        if t + dt > tf:\n",
    "            h = tf - t\n",
    "        else:\n",
    "            h = dt\n",
    "            \n",
    "        dydt = dy(t, y)\n",
    "        y = y + dydt * h\n",
    "        t = t+h\n",
    "        if t >= tf:\n",
    "            break\n",
    "            \n",
    "    return y"
   ]
  },
  {
   "cell_type": "code",
   "execution_count": null,
   "metadata": {},
   "outputs": [],
   "source": [
    "Euler(dt, t_i, t_f, v_0)"
   ]
  },
  {
   "cell_type": "code",
   "execution_count": null,
   "metadata": {},
   "outputs": [],
   "source": []
  }
 ],
 "metadata": {
  "kernelspec": {
   "display_name": "Python 3",
   "language": "python",
   "name": "python3"
  },
  "language_info": {
   "codemirror_mode": {
    "name": "ipython",
    "version": 3
   },
   "file_extension": ".py",
   "mimetype": "text/x-python",
   "name": "python",
   "nbconvert_exporter": "python",
   "pygments_lexer": "ipython3",
   "version": "3.7.4"
  }
 },
 "nbformat": 4,
 "nbformat_minor": 2
}
